{
 "cells": [
  {
   "cell_type": "code",
   "execution_count": null,
   "metadata": {
    "execution": {
     "iopub.execute_input": "2024-11-27T15:01:07.317245Z",
     "iopub.status.busy": "2024-11-27T15:01:07.316803Z",
     "iopub.status.idle": "2024-11-27T15:01:22.898562Z",
     "shell.execute_reply": "2024-11-27T15:01:22.897530Z",
     "shell.execute_reply.started": "2024-11-27T15:01:07.317192Z"
    },
    "trusted": true
   },
   "outputs": [
    {
     "name": "stdout",
     "output_type": "stream",
     "text": [
      "Requirement already satisfied: timm in /opt/conda/lib/python3.10/site-packages (1.0.9)\n",
      "Requirement already satisfied: torch in /opt/conda/lib/python3.10/site-packages (from timm) (2.4.0)\n",
      "Requirement already satisfied: torchvision in /opt/conda/lib/python3.10/site-packages (from timm) (0.19.0)\n",
      "Requirement already satisfied: pyyaml in /opt/conda/lib/python3.10/site-packages (from timm) (6.0.2)\n",
      "Requirement already satisfied: huggingface_hub in /opt/conda/lib/python3.10/site-packages (from timm) (0.25.1)\n",
      "Requirement already satisfied: safetensors in /opt/conda/lib/python3.10/site-packages (from timm) (0.4.5)\n",
      "Requirement already satisfied: filelock in /opt/conda/lib/python3.10/site-packages (from huggingface_hub->timm) (3.15.1)\n",
      "Requirement already satisfied: fsspec>=2023.5.0 in /opt/conda/lib/python3.10/site-packages (from huggingface_hub->timm) (2024.6.1)\n",
      "Requirement already satisfied: packaging>=20.9 in /opt/conda/lib/python3.10/site-packages (from huggingface_hub->timm) (21.3)\n",
      "Requirement already satisfied: requests in /opt/conda/lib/python3.10/site-packages (from huggingface_hub->timm) (2.32.3)\n",
      "Requirement already satisfied: tqdm>=4.42.1 in /opt/conda/lib/python3.10/site-packages (from huggingface_hub->timm) (4.66.4)\n",
      "Requirement already satisfied: typing-extensions>=3.7.4.3 in /opt/conda/lib/python3.10/site-packages (from huggingface_hub->timm) (4.12.2)\n",
      "Requirement already satisfied: sympy in /opt/conda/lib/python3.10/site-packages (from torch->timm) (1.13.3)\n",
      "Requirement already satisfied: networkx in /opt/conda/lib/python3.10/site-packages (from torch->timm) (3.3)\n",
      "Requirement already satisfied: jinja2 in /opt/conda/lib/python3.10/site-packages (from torch->timm) (3.1.4)\n",
      "Requirement already satisfied: numpy in /opt/conda/lib/python3.10/site-packages (from torchvision->timm) (1.26.4)\n",
      "Requirement already satisfied: pillow!=8.3.*,>=5.3.0 in /opt/conda/lib/python3.10/site-packages (from torchvision->timm) (10.3.0)\n",
      "Requirement already satisfied: pyparsing!=3.0.5,>=2.0.2 in /opt/conda/lib/python3.10/site-packages (from packaging>=20.9->huggingface_hub->timm) (3.1.2)\n",
      "Requirement already satisfied: MarkupSafe>=2.0 in /opt/conda/lib/python3.10/site-packages (from jinja2->torch->timm) (2.1.5)\n",
      "Requirement already satisfied: charset-normalizer<4,>=2 in /opt/conda/lib/python3.10/site-packages (from requests->huggingface_hub->timm) (3.3.2)\n",
      "Requirement already satisfied: idna<4,>=2.5 in /opt/conda/lib/python3.10/site-packages (from requests->huggingface_hub->timm) (3.7)\n",
      "Requirement already satisfied: urllib3<3,>=1.21.1 in /opt/conda/lib/python3.10/site-packages (from requests->huggingface_hub->timm) (1.26.18)\n",
      "Requirement already satisfied: certifi>=2017.4.17 in /opt/conda/lib/python3.10/site-packages (from requests->huggingface_hub->timm) (2024.8.30)\n",
      "Requirement already satisfied: mpmath<1.4,>=1.1.0 in /opt/conda/lib/python3.10/site-packages (from sympy->torch->timm) (1.3.0)\n"
     ]
    }
   ],
   "source": [
    "!pip install timm\n",
    "import os\n",
    "import numpy as np\n",
    "import torch\n",
    "from torch.utils.data import DataLoader, Dataset, WeightedRandomSampler\n",
    "import torch.nn as nn\n",
    "import timm\n",
    "from sklearn.metrics import accuracy_score, precision_recall_fscore_support, confusion_matrix, roc_auc_score\n",
    "from sklearn.model_selection import StratifiedKFold\n",
    "import torchvision.transforms as transforms\n",
    "from tqdm import tqdm\n",
    "\n",
    "# Device Configuration\n",
    "device = torch.device('cuda' if torch.cuda.is_available() else 'cpu')\n"
   ]
  },
  {
   "cell_type": "code",
   "execution_count": null,
   "metadata": {
    "execution": {
     "iopub.execute_input": "2024-11-27T16:09:32.541717Z",
     "iopub.status.busy": "2024-11-27T16:09:32.540963Z",
     "iopub.status.idle": "2024-11-27T16:10:12.573202Z",
     "shell.execute_reply": "2024-11-27T16:10:12.572250Z",
     "shell.execute_reply.started": "2024-11-27T16:09:32.541683Z"
    },
    "trusted": true
   },
   "outputs": [
    {
     "name": "stdout",
     "output_type": "stream",
     "text": [
      "Dataset and DataLoader are ready!\n"
     ]
    }
   ],
   "source": [
    "import os\n",
    "import numpy as np\n",
    "import matplotlib.pyplot as plt\n",
    "from torch.utils.data import Dataset, DataLoader, WeightedRandomSampler\n",
    "import torchvision.transforms as transforms\n",
    "from PIL import Image  # PIL is better for handling image transformations\n",
    "\n",
    "class DefectDataset(Dataset):\n",
    "    def __init__(self, folder, transform=None):\n",
    "        \"\"\"\n",
    "        Args:\n",
    "            folder (str): Path to the folder containing images and their ground truth labels.\n",
    "            transform (callable, optional): Optional transform to be applied on a sample.\n",
    "        \"\"\"\n",
    "        self.folder = folder\n",
    "        self.transform = transform\n",
    "        # filtering out _GT.png files so that we can only work with base images\n",
    "        self.images = [f for f in os.listdir(folder) if f.endswith('.png') and not f.endswith('_GT.png')]\n",
    "\n",
    "    def __len__(self):\n",
    "        return len(self.images)\n",
    "\n",
    "    def __getitem__(self, idx):\n",
    "        img_name = os.path.join(self.folder, self.images[idx])\n",
    "        # corresponding label (ground truth) path\n",
    "        gt_name = os.path.join(self.folder, self.images[idx].replace('.png', '_GT.png'))\n",
    "        \n",
    "        # we are loading the image using PIL\n",
    "        image = Image.open(img_name).convert('RGB')  # Convert to 3 channels (RGB)\n",
    "\n",
    "        # loading label (ground truth) if it exists, otherwise there is no defect (label=0)\n",
    "        if os.path.exists(gt_name):\n",
    "            label_image = plt.imread(gt_name)\n",
    "            label = int(np.max(label_image))  # binary classification\n",
    "        else:\n",
    "            label = 0  # defaulting to no defect if ground truth file is missing\n",
    "\n",
    "        if self.transform:\n",
    "            image = self.transform(image)\n",
    "\n",
    "        return image, label\n",
    "\n",
    "train_path = \"/kaggle/input/iterationone/train\"\n",
    "test_path = \"/kaggle/input/iterationone/test\"\n",
    "image_size = (224, 224)  # Standard input size for EfficientNet\n",
    "\n",
    "data_transforms = {\n",
    "    'train': transforms.Compose([\n",
    "        transforms.Resize(image_size),\n",
    "        transforms.ToTensor(),\n",
    "        transforms.Normalize([0.5, 0.5, 0.5], [0.5, 0.5, 0.5])  #normalizing for 3 channels\n",
    "    ]),\n",
    "    'test': transforms.Compose([\n",
    "        transforms.Resize(image_size),\n",
    "        transforms.ToTensor(),\n",
    "        transforms.Normalize([0.5, 0.5, 0.5], [0.5, 0.5, 0.5])  # normalizing for 3 channels\n",
    "    ])\n",
    "}\n",
    "\n",
    "train_dataset = DefectDataset(train_path, transform=data_transforms['train'])\n",
    "test_dataset = DefectDataset(test_path, transform=data_transforms['test'])\n",
    "\n",
    "# handling Class Imbalance\n",
    "labels = [train_dataset[i][1] for i in range(len(train_dataset))]  \n",
    "class_counts = [labels.count(0), labels.count(1)]\n",
    "class_weights = 1.0 / np.array(class_counts)  # inverse class frequency\n",
    "sample_weights = [class_weights[label] for _, label in train_dataset]  # assigning weight to each sample\n",
    "sampler = WeightedRandomSampler(sample_weights, len(train_dataset))  # sampling with replacement\n",
    "\n",
    "# dataloaders\n",
    "train_loader = DataLoader(train_dataset, batch_size=32, sampler=sampler)\n",
    "test_loader = DataLoader(test_dataset, batch_size=32, shuffle=False)\n",
    "\n",
    "print(\"Dataset and DataLoader are ready!\")\n"
   ]
  },
  {
   "cell_type": "code",
   "execution_count": null,
   "metadata": {
    "execution": {
     "iopub.execute_input": "2024-11-27T16:35:22.165389Z",
     "iopub.status.busy": "2024-11-27T16:35:22.165065Z",
     "iopub.status.idle": "2024-11-27T16:47:47.773233Z",
     "shell.execute_reply": "2024-11-27T16:47:47.772375Z",
     "shell.execute_reply.started": "2024-11-27T16:35:22.165362Z"
    },
    "trusted": true
   },
   "outputs": [
    {
     "name": "stdout",
     "output_type": "stream",
     "text": [
      "\n",
      "Training Fold 1\n"
     ]
    },
    {
     "name": "stderr",
     "output_type": "stream",
     "text": [
      "Epoch 1 Training: 100%|██████████| 59/59 [00:25<00:00,  2.34it/s]\n"
     ]
    },
    {
     "name": "stdout",
     "output_type": "stream",
     "text": [
      "Epoch 1: Loss = 0.2857\n"
     ]
    },
    {
     "name": "stderr",
     "output_type": "stream",
     "text": [
      "Epoch 2 Training: 100%|██████████| 59/59 [00:25<00:00,  2.35it/s]\n"
     ]
    },
    {
     "name": "stdout",
     "output_type": "stream",
     "text": [
      "Epoch 2: Loss = 0.0519\n"
     ]
    },
    {
     "name": "stderr",
     "output_type": "stream",
     "text": [
      "Epoch 3 Training: 100%|██████████| 59/59 [00:25<00:00,  2.27it/s]\n"
     ]
    },
    {
     "name": "stdout",
     "output_type": "stream",
     "text": [
      "Epoch 3: Loss = 0.0234\n"
     ]
    },
    {
     "name": "stderr",
     "output_type": "stream",
     "text": [
      "Epoch 4 Training: 100%|██████████| 59/59 [00:25<00:00,  2.33it/s]\n"
     ]
    },
    {
     "name": "stdout",
     "output_type": "stream",
     "text": [
      "Epoch 4: Loss = 0.0312\n"
     ]
    },
    {
     "name": "stderr",
     "output_type": "stream",
     "text": [
      "Epoch 5 Training: 100%|██████████| 59/59 [00:25<00:00,  2.29it/s]\n"
     ]
    },
    {
     "name": "stdout",
     "output_type": "stream",
     "text": [
      "Epoch 5: Loss = 0.0268\n"
     ]
    },
    {
     "name": "stderr",
     "output_type": "stream",
     "text": [
      "Validation: 100%|██████████| 15/15 [00:04<00:00,  3.04it/s]\n"
     ]
    },
    {
     "name": "stdout",
     "output_type": "stream",
     "text": [
      "\n",
      "Training Fold 2\n"
     ]
    },
    {
     "name": "stderr",
     "output_type": "stream",
     "text": [
      "Epoch 1 Training: 100%|██████████| 59/59 [00:25<00:00,  2.35it/s]\n"
     ]
    },
    {
     "name": "stdout",
     "output_type": "stream",
     "text": [
      "Epoch 1: Loss = 0.3365\n"
     ]
    },
    {
     "name": "stderr",
     "output_type": "stream",
     "text": [
      "Epoch 2 Training: 100%|██████████| 59/59 [00:25<00:00,  2.28it/s]\n"
     ]
    },
    {
     "name": "stdout",
     "output_type": "stream",
     "text": [
      "Epoch 2: Loss = 0.0959\n"
     ]
    },
    {
     "name": "stderr",
     "output_type": "stream",
     "text": [
      "Epoch 3 Training: 100%|██████████| 59/59 [00:24<00:00,  2.38it/s]\n"
     ]
    },
    {
     "name": "stdout",
     "output_type": "stream",
     "text": [
      "Epoch 3: Loss = 0.0504\n"
     ]
    },
    {
     "name": "stderr",
     "output_type": "stream",
     "text": [
      "Epoch 4 Training: 100%|██████████| 59/59 [00:25<00:00,  2.31it/s]\n"
     ]
    },
    {
     "name": "stdout",
     "output_type": "stream",
     "text": [
      "Epoch 4: Loss = 0.0490\n"
     ]
    },
    {
     "name": "stderr",
     "output_type": "stream",
     "text": [
      "Epoch 5 Training: 100%|██████████| 59/59 [00:24<00:00,  2.39it/s]\n"
     ]
    },
    {
     "name": "stdout",
     "output_type": "stream",
     "text": [
      "Epoch 5: Loss = 0.0379\n"
     ]
    },
    {
     "name": "stderr",
     "output_type": "stream",
     "text": [
      "Validation: 100%|██████████| 15/15 [00:04<00:00,  3.34it/s]\n"
     ]
    },
    {
     "name": "stdout",
     "output_type": "stream",
     "text": [
      "\n",
      "Training Fold 3\n"
     ]
    },
    {
     "name": "stderr",
     "output_type": "stream",
     "text": [
      "Epoch 1 Training: 100%|██████████| 59/59 [00:24<00:00,  2.43it/s]\n"
     ]
    },
    {
     "name": "stdout",
     "output_type": "stream",
     "text": [
      "Epoch 1: Loss = 0.3896\n"
     ]
    },
    {
     "name": "stderr",
     "output_type": "stream",
     "text": [
      "Epoch 2 Training: 100%|██████████| 59/59 [00:24<00:00,  2.45it/s]\n"
     ]
    },
    {
     "name": "stdout",
     "output_type": "stream",
     "text": [
      "Epoch 2: Loss = 0.0745\n"
     ]
    },
    {
     "name": "stderr",
     "output_type": "stream",
     "text": [
      "Epoch 3 Training: 100%|██████████| 59/59 [00:24<00:00,  2.37it/s]\n"
     ]
    },
    {
     "name": "stdout",
     "output_type": "stream",
     "text": [
      "Epoch 3: Loss = 0.0352\n"
     ]
    },
    {
     "name": "stderr",
     "output_type": "stream",
     "text": [
      "Epoch 4 Training: 100%|██████████| 59/59 [00:24<00:00,  2.39it/s]\n"
     ]
    },
    {
     "name": "stdout",
     "output_type": "stream",
     "text": [
      "Epoch 4: Loss = 0.0169\n"
     ]
    },
    {
     "name": "stderr",
     "output_type": "stream",
     "text": [
      "Epoch 5 Training: 100%|██████████| 59/59 [00:24<00:00,  2.39it/s]\n"
     ]
    },
    {
     "name": "stdout",
     "output_type": "stream",
     "text": [
      "Epoch 5: Loss = 0.0131\n"
     ]
    },
    {
     "name": "stderr",
     "output_type": "stream",
     "text": [
      "Validation: 100%|██████████| 15/15 [00:05<00:00,  2.89it/s]\n"
     ]
    },
    {
     "name": "stdout",
     "output_type": "stream",
     "text": [
      "\n",
      "Training Fold 4\n"
     ]
    },
    {
     "name": "stderr",
     "output_type": "stream",
     "text": [
      "Epoch 1 Training: 100%|██████████| 59/59 [00:24<00:00,  2.38it/s]\n"
     ]
    },
    {
     "name": "stdout",
     "output_type": "stream",
     "text": [
      "Epoch 1: Loss = 0.3351\n"
     ]
    },
    {
     "name": "stderr",
     "output_type": "stream",
     "text": [
      "Epoch 2 Training: 100%|██████████| 59/59 [00:25<00:00,  2.33it/s]\n"
     ]
    },
    {
     "name": "stdout",
     "output_type": "stream",
     "text": [
      "Epoch 2: Loss = 0.0593\n"
     ]
    },
    {
     "name": "stderr",
     "output_type": "stream",
     "text": [
      "Epoch 3 Training: 100%|██████████| 59/59 [00:24<00:00,  2.42it/s]\n"
     ]
    },
    {
     "name": "stdout",
     "output_type": "stream",
     "text": [
      "Epoch 3: Loss = 0.0322\n"
     ]
    },
    {
     "name": "stderr",
     "output_type": "stream",
     "text": [
      "Epoch 4 Training: 100%|██████████| 59/59 [00:24<00:00,  2.40it/s]\n"
     ]
    },
    {
     "name": "stdout",
     "output_type": "stream",
     "text": [
      "Epoch 4: Loss = 0.0210\n"
     ]
    },
    {
     "name": "stderr",
     "output_type": "stream",
     "text": [
      "Epoch 5 Training: 100%|██████████| 59/59 [00:24<00:00,  2.40it/s]\n"
     ]
    },
    {
     "name": "stdout",
     "output_type": "stream",
     "text": [
      "Epoch 5: Loss = 0.0146\n"
     ]
    },
    {
     "name": "stderr",
     "output_type": "stream",
     "text": [
      "Validation: 100%|██████████| 15/15 [00:04<00:00,  3.32it/s]\n"
     ]
    },
    {
     "name": "stdout",
     "output_type": "stream",
     "text": [
      "\n",
      "Training Fold 5\n"
     ]
    },
    {
     "name": "stderr",
     "output_type": "stream",
     "text": [
      "Epoch 1 Training: 100%|██████████| 59/59 [00:24<00:00,  2.43it/s]\n"
     ]
    },
    {
     "name": "stdout",
     "output_type": "stream",
     "text": [
      "Epoch 1: Loss = 0.2780\n"
     ]
    },
    {
     "name": "stderr",
     "output_type": "stream",
     "text": [
      "Epoch 2 Training: 100%|██████████| 59/59 [00:24<00:00,  2.42it/s]\n"
     ]
    },
    {
     "name": "stdout",
     "output_type": "stream",
     "text": [
      "Epoch 2: Loss = 0.0554\n"
     ]
    },
    {
     "name": "stderr",
     "output_type": "stream",
     "text": [
      "Epoch 3 Training: 100%|██████████| 59/59 [00:24<00:00,  2.42it/s]\n"
     ]
    },
    {
     "name": "stdout",
     "output_type": "stream",
     "text": [
      "Epoch 3: Loss = 0.0182\n"
     ]
    },
    {
     "name": "stderr",
     "output_type": "stream",
     "text": [
      "Epoch 4 Training: 100%|██████████| 59/59 [00:24<00:00,  2.38it/s]\n"
     ]
    },
    {
     "name": "stdout",
     "output_type": "stream",
     "text": [
      "Epoch 4: Loss = 0.0181\n"
     ]
    },
    {
     "name": "stderr",
     "output_type": "stream",
     "text": [
      "Epoch 5 Training: 100%|██████████| 59/59 [00:24<00:00,  2.44it/s]\n"
     ]
    },
    {
     "name": "stdout",
     "output_type": "stream",
     "text": [
      "Epoch 5: Loss = 0.0120\n"
     ]
    },
    {
     "name": "stderr",
     "output_type": "stream",
     "text": [
      "Validation: 100%|██████████| 15/15 [00:04<00:00,  3.08it/s]"
     ]
    },
    {
     "name": "stdout",
     "output_type": "stream",
     "text": [
      "\n",
      "Cross-Validation Results:\n",
      "   Accuracy  Precision    Recall        F1\n",
      "0  0.749465   0.246269  0.673469  0.360656\n",
      "1  0.768737   0.252101  0.612245  0.357143\n",
      "2  0.931478   0.660714  0.740000  0.698113\n",
      "3  0.920601   0.730769  0.387755  0.506667\n",
      "4  0.954936   0.966667  0.591837  0.734177\n",
      "\n",
      "Average Results:\n",
      "Accuracy     0.865043\n",
      "Precision    0.571304\n",
      "Recall       0.601061\n",
      "F1           0.531351\n",
      "dtype: float64\n"
     ]
    },
    {
     "name": "stderr",
     "output_type": "stream",
     "text": [
      "\n"
     ]
    }
   ],
   "source": [
    "import torch\n",
    "import torch.nn as nn\n",
    "from torch.utils.data import DataLoader, WeightedRandomSampler\n",
    "import timm\n",
    "from sklearn.model_selection import StratifiedKFold\n",
    "from sklearn.metrics import accuracy_score, precision_recall_fscore_support\n",
    "import numpy as np\n",
    "import pandas as pd\n",
    "from tqdm import tqdm\n",
    "from torch.amp import GradScaler, autocast\n",
    "\n",
    "# defining focal loss\n",
    "class FocalLoss(nn.Module):\n",
    "    def __init__(self, alpha=0.25, gamma=2.0, reduction='mean'):\n",
    "        super(FocalLoss, self).__init__()\n",
    "        self.alpha = alpha\n",
    "        self.gamma = gamma\n",
    "        self.reduction = reduction\n",
    "\n",
    "    def forward(self, logits, targets):\n",
    "        # creating one-hot encoding on the same device as the logits\n",
    "        targets_one_hot = torch.eye(logits.size(1), device=logits.device)[targets]\n",
    "        probs = torch.softmax(logits, dim=1)\n",
    "        probs_target = torch.sum(probs * targets_one_hot, dim=1)\n",
    "\n",
    "        # computing focal loss\n",
    "        log_probs = -torch.log(probs_target + 1e-9)\n",
    "        focal_loss = self.alpha * ((1 - probs_target) ** self.gamma) * log_probs\n",
    "\n",
    "        # reducing\n",
    "        if self.reduction == 'mean':\n",
    "            return focal_loss.mean()\n",
    "        elif self.reduction == 'sum':\n",
    "            return focal_loss.sum()\n",
    "        else:\n",
    "            return focal_loss\n",
    "\n",
    "# setting up our parameters\n",
    "device = torch.device(\"cuda\" if torch.cuda.is_available() else \"cpu\")\n",
    "criterion_focal = FocalLoss(alpha=0.25, gamma=2.0)\n",
    "efficientnet_model_name = \"efficientnet_b1\"  \n",
    "num_classes_binary = 2\n",
    "learning_rate_focal = 1e-4\n",
    "batch_size_focal = 32\n",
    "num_epochs_focal = 5\n",
    "\n",
    "# extracting our labels \n",
    "train_labels_focal = [train_dataset[i][1] for i in range(len(train_dataset))]\n",
    "\n",
    "# stratifiedKFold for 5-fold cross-validation\n",
    "skf_focal = StratifiedKFold(n_splits=5, shuffle=True, random_state=42)\n",
    "fold_results_focal = []\n",
    "\n",
    "#training with Focal Loss\n",
    "for fold, (train_idx_focal, val_idx_focal) in enumerate(skf_focal.split(np.arange(len(train_labels_focal)), train_labels_focal)):\n",
    "    print(f\"\\nTraining Fold {fold + 1}\")\n",
    "\n",
    "    # creating subsets for training and validation\n",
    "    train_subset_focal = torch.utils.data.Subset(train_dataset, train_idx_focal)\n",
    "    val_subset_focal = torch.utils.data.Subset(train_dataset, val_idx_focal)\n",
    "\n",
    "    # WeightedRandomSampler for imbalance handling\n",
    "    train_labels_fold = [train_dataset[i][1] for i in train_idx_focal]\n",
    "    class_counts_focal = [train_labels_fold.count(0), train_labels_fold.count(1)]\n",
    "    class_weights_focal = 1.0 / torch.tensor(class_counts_focal, dtype=torch.float32)\n",
    "    sample_weights_focal = [class_weights_focal[label] for label in train_labels_fold]\n",
    "    train_sampler_focal = WeightedRandomSampler(sample_weights_focal, len(train_idx_focal), replacement=True)\n",
    "\n",
    "    train_loader_focal = DataLoader(train_subset_focal, batch_size=batch_size_focal, sampler=train_sampler_focal)\n",
    "    val_loader_focal = DataLoader(val_subset_focal, batch_size=batch_size_focal, shuffle=False)\n",
    "\n",
    "    # initializing EfficientNet model\n",
    "    model_focal = timm.create_model(efficientnet_model_name, pretrained=True, num_classes=num_classes_binary).to(device)\n",
    "    optimizer_focal = torch.optim.Adam(model_focal.parameters(), lr=learning_rate_focal)\n",
    "    scaler_focal = GradScaler()\n",
    "\n",
    "    # this here is our training loop\n",
    "    for epoch in range(num_epochs_focal):\n",
    "        model_focal.train()\n",
    "        running_loss_focal = 0.0\n",
    "        for inputs, labels in tqdm(train_loader_focal, desc=f\"Epoch {epoch + 1} Training\"):\n",
    "            inputs = inputs.to(device)\n",
    "            labels = labels.to(device)\n",
    "\n",
    "            optimizer_focal.zero_grad()\n",
    "            with autocast(device_type=\"cuda\"):\n",
    "                outputs = model_focal(inputs)\n",
    "                loss = criterion_focal(outputs, labels)\n",
    "            scaler_focal.scale(loss).backward()\n",
    "            scaler_focal.step(optimizer_focal)\n",
    "            scaler_focal.update()\n",
    "            running_loss_focal += loss.item()\n",
    "\n",
    "        print(f\"Epoch {epoch + 1}: Loss = {running_loss_focal / len(train_loader_focal):.4f}\")\n",
    "\n",
    "    # this here is our validation loop\n",
    "    model_focal.eval()\n",
    "    val_preds_focal, val_labels_focal = [], []\n",
    "    with torch.no_grad():\n",
    "        for inputs, labels in tqdm(val_loader_focal, desc=\"Validation\"):\n",
    "            inputs = inputs.to(device)\n",
    "            labels = labels.to(device)\n",
    "            outputs = model_focal(inputs)\n",
    "            _, preds = torch.max(outputs, 1)\n",
    "            val_preds_focal.extend(preds.cpu().numpy())\n",
    "            val_labels_focal.extend(labels.cpu().numpy())\n",
    "\n",
    "    # calculating metrics\n",
    "    accuracy_focal = accuracy_score(val_labels_focal, val_preds_focal)\n",
    "    precision_focal, recall_focal, f1_focal, _ = precision_recall_fscore_support(val_labels_focal, val_preds_focal, average='binary')\n",
    "    fold_results_focal.append((accuracy_focal, precision_focal, recall_focal, f1_focal))\n",
    "\n",
    "# getting our cross-validation results\n",
    "cv_results_focal = pd.DataFrame(fold_results_focal, columns=[\"Accuracy\", \"Precision\", \"Recall\", \"F1\"])\n",
    "print(f\"\\nCross-Validation Results:\\n{cv_results_focal}\")\n",
    "print(f\"\\nAverage Results:\\n{cv_results_focal.mean()}\")\n"
   ]
  },
  {
   "cell_type": "code",
   "execution_count": null,
   "metadata": {
    "execution": {
     "iopub.execute_input": "2024-11-27T17:41:27.328631Z",
     "iopub.status.busy": "2024-11-27T17:41:27.328260Z",
     "iopub.status.idle": "2024-11-27T17:41:27.384257Z",
     "shell.execute_reply": "2024-11-27T17:41:27.383598Z",
     "shell.execute_reply.started": "2024-11-27T17:41:27.328600Z"
    },
    "trusted": true
   },
   "outputs": [],
   "source": [
    "# saving the model after fine-tuning\n",
    "torch.save(model_focal.state_dict(), \"fine_tuned_efficientnet.pth\")"
   ]
  },
  {
   "cell_type": "code",
   "execution_count": null,
   "metadata": {
    "execution": {
     "iopub.execute_input": "2024-11-27T16:50:24.983821Z",
     "iopub.status.busy": "2024-11-27T16:50:24.983117Z",
     "iopub.status.idle": "2024-11-27T16:50:36.538425Z",
     "shell.execute_reply": "2024-11-27T16:50:36.537562Z",
     "shell.execute_reply.started": "2024-11-27T16:50:24.983788Z"
    },
    "trusted": true
   },
   "outputs": [
    {
     "name": "stdout",
     "output_type": "stream",
     "text": [
      "Test Results:\n",
      "Accuracy: 0.9502\n",
      "Precision: 0.9545\n",
      "Recall: 0.5727\n",
      "F1 Score: 0.7159\n",
      "Area Under ROC Curve: 0.7847\n"
     ]
    },
    {
     "data": {
      "image/png": "[encoded data removed]",
      "text/plain": [
       "<Figure size 640x480 with 2 Axes>"
      ]
     },
     "metadata": {},
     "output_type": "display_data"
    }
   ],
   "source": [
    "#inference with the fine_tuned model\n",
    "from sklearn.metrics import accuracy_score, precision_recall_fscore_support, roc_auc_score, confusion_matrix, ConfusionMatrixDisplay\n",
    "import matplotlib.pyplot as plt\n",
    "\n",
    "# evaluating on the test set\n",
    "model_focal.eval()\n",
    "test_preds, test_labels = [], []\n",
    "\n",
    "with torch.no_grad():\n",
    "    for inputs, labels in test_loader:\n",
    "        # moving data to the appropriate device\n",
    "        inputs = inputs.to(device)\n",
    "        labels = labels.to(device)\n",
    "\n",
    "        # forward pass\n",
    "        outputs = model_focal(inputs)\n",
    "        _, preds = torch.max(outputs, 1)\n",
    "\n",
    "        # collecting predictions and true labels\n",
    "        test_preds.extend(preds.cpu().numpy())\n",
    "        test_labels.extend(labels.cpu().numpy())\n",
    "\n",
    "# calculating metrics\n",
    "accuracy = accuracy_score(test_labels, test_preds)\n",
    "precision, recall, f1, _ = precision_recall_fscore_support(test_labels, test_preds, average='binary')\n",
    "roc_auc = roc_auc_score(test_labels, test_preds)\n",
    "\n",
    "# printing metrics\n",
    "print(f\"Test Results:\")\n",
    "print(f\"Accuracy: {accuracy:.4f}\")\n",
    "print(f\"Precision: {precision:.4f}\")\n",
    "print(f\"Recall: {recall:.4f}\")\n",
    "print(f\"F1 Score: {f1:.4f}\")\n",
    "print(f\"Area Under ROC Curve: {roc_auc:.4f}\")\n",
    "\n",
    "# plotting our Confusion matrix\n",
    "cm = confusion_matrix(test_labels, test_preds)\n",
    "disp = ConfusionMatrixDisplay(confusion_matrix=cm, display_labels=[0, 1])\n",
    "disp.plot(cmap='Blues')\n",
    "plt.title(\"Confusion Matrix - Test Set\")\n",
    "plt.show()\n"
   ]
  },
  {
   "cell_type": "code",
   "execution_count": null,
   "metadata": {
    "execution": {
     "iopub.execute_input": "2024-11-27T20:46:25.286769Z",
     "iopub.status.busy": "2024-11-27T20:46:25.286143Z",
     "iopub.status.idle": "2024-11-27T20:46:26.525159Z",
     "shell.execute_reply": "2024-11-27T20:46:26.524055Z",
     "shell.execute_reply.started": "2024-11-27T20:46:25.286736Z"
    },
    "trusted": true
   },
   "outputs": [
    {
     "name": "stderr",
     "output_type": "stream",
     "text": [
      "/tmp/ipykernel_30/4042318369.py:7: FutureWarning: You are using `torch.load` with `weights_only=False` (the current default value), which uses the default pickle module implicitly. It is possible to construct malicious pickle data which will execute arbitrary code during unpickling (See https://github.com/pytorch/pytorch/blob/main/SECURITY.md#untrusted-models for more details). In a future release, the default value for `weights_only` will be flipped to `True`. This limits the functions that could be executed during unpickling. Arbitrary objects will no longer be allowed to be loaded via this mode unless they are explicitly allowlisted by the user via `torch.serialization.add_safe_globals`. We recommend you start setting `weights_only=True` for any use case where you don't have full control of the loaded file. Please open an issue on GitHub for any issues related to this experimental feature.\n",
      "  model.load_state_dict(torch.load(\"fine_tuned_efficientnet.pth\"))  # Replace with the path to your model's weights\n"
     ]
    },
    {
     "name": "stdout",
     "output_type": "stream",
     "text": [
      "Model exported to Fine-Tuned-EfficientNet.onnx successfully!\n",
      "ONNX model is valid!\n"
     ]
    }
   ],
   "source": [
    "import torch\n",
    "import timm\n",
    "import onnx\n",
    "\n",
    "# loading our fine-tuned EfficientNet model\n",
    "model = timm.create_model(\"efficientnet_b1\", pretrained=False, num_classes=2)\n",
    "model.load_state_dict(torch.load(\"fine_tuned_efficientnet.pth\"))  \n",
    "model.eval()\n",
    "\n",
    "input_height = 224\n",
    "input_width = 224\n",
    "\n",
    "dummy_input = torch.randn(1, 3, input_height, input_width)  # Batch size: 1, Channels: 3 (RGB)\n",
    "\n",
    "onnx_model_path = \"Fine-Tuned-EfficientNet.onnx\"\n",
    "\n",
    "torch.onnx.export(\n",
    "    model,\n",
    "    dummy_input,\n",
    "    onnx_model_path,  # saving the exported model\n",
    "    opset_version=11,     \n",
    "    input_names=[\"input\"], \n",
    "    output_names=[\"output\"],\n",
    "    dynamic_axes={\"input\": {0: \"batch_size\"}, \"output\": {0: \"batch_size\"}}  # supporting dynamic batch size\n",
    ")\n",
    "\n",
    "print(f\"Model exported to {onnx_model_path} successfully!\")\n",
    "\n",
    "# checking the exported ONNX model for correctness\n",
    "try:\n",
    "    onnx_model = onnx.load(onnx_model_path)  \n",
    "    onnx.checker.check_model(onnx_model)  \n",
    "    print(\"ONNX model is valid!\")\n",
    "except onnx.onnx_cpp2py_export.checker.ValidationError as e:\n",
    "    print(f\"ONNX model is invalid: {e}\")\n"
   ]
  }
 ],
 "metadata": {
  "kaggle": {
   "accelerator": "gpu",
   "dataSources": [
    {
     "datasetId": 6177711,
     "sourceId": 10030592,
     "sourceType": "datasetVersion"
    }
   ],
   "dockerImageVersionId": 30787,
   "isGpuEnabled": true,
   "isInternetEnabled": true,
   "language": "python",
   "sourceType": "notebook"
  },
  "kernelspec": {
   "display_name": "Python 3",
   "language": "python",
   "name": "python3"
  },
  "language_info": {
   "codemirror_mode": {
    "name": "ipython",
    "version": 3
   },
   "file_extension": ".py",
   "mimetype": "text/x-python",
   "name": "python",
   "nbconvert_exporter": "python",
   "pygments_lexer": "ipython3",
   "version": "3.10.14"
  }
 },
 "nbformat": 4,
 "nbformat_minor": 4
}
